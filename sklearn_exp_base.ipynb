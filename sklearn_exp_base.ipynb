{
  "nbformat": 4,
  "nbformat_minor": 0,
  "metadata": {
    "colab": {
      "name": "sklearn_exp_base.ipynb",
      "provenance": [],
      "authorship_tag": "ABX9TyMFypIGfCd7rIJzHS3HYG7p",
      "include_colab_link": true
    },
    "kernelspec": {
      "name": "python3",
      "display_name": "Python 3"
    }
  },
  "cells": [
    {
      "cell_type": "markdown",
      "metadata": {
        "id": "view-in-github",
        "colab_type": "text"
      },
      "source": [
        "<a href=\"https://colab.research.google.com/github/BarryLiu-97/Machine-Learning/blob/master/sklearn_exp_base.ipynb\" target=\"_parent\"><img src=\"https://colab.research.google.com/assets/colab-badge.svg\" alt=\"Open In Colab\"/></a>"
      ]
    },
    {
      "cell_type": "markdown",
      "metadata": {
        "id": "GcZKnn6WWSYR",
        "colab_type": "text"
      },
      "source": [
        "KNN对鸢尾花数据集进行分类，为sklearn的统一数据处理模式"
      ]
    },
    {
      "cell_type": "code",
      "metadata": {
        "id": "TT3Lczsn-h7B",
        "colab_type": "code",
        "colab": {}
      },
      "source": [
        "import numpy as np\n",
        "from sklearn import datasets\n",
        "from sklearn.model_selection import train_test_split\n",
        "from sklearn.neighbors import KNeighborsClassifier"
      ],
      "execution_count": 0,
      "outputs": []
    },
    {
      "cell_type": "code",
      "metadata": {
        "id": "slfQXx33VH7F",
        "colab_type": "code",
        "colab": {
          "base_uri": "https://localhost:8080/",
          "height": 84
        },
        "outputId": "38cfaa8a-abc6-44d6-e043-75c8afd36f57"
      },
      "source": [
        "iris = datasets.load_iris()\n",
        "iris_X = iris.data\n",
        "iris_y = iris.target\n",
        "\n",
        "X_train, X_test, y_train, y_test = train_test_split(iris_X, iris_y, test_size=0.3, random_state = 1)\n",
        "\n",
        "knn = KNeighborsClassifier()\n",
        "knn.fit(X_train, y_train)\n",
        "print(knn.predict(X_test))\n",
        "print(y_test)"
      ],
      "execution_count": 7,
      "outputs": [
        {
          "output_type": "stream",
          "text": [
            "[0 1 1 0 2 1 2 0 0 2 1 0 2 1 1 0 1 1 0 0 1 1 1 0 2 1 0 0 1 2 1 2 1 2 2 0 1\n",
            " 0 1 2 2 0 1 2 1]\n",
            "[0 1 1 0 2 1 2 0 0 2 1 0 2 1 1 0 1 1 0 0 1 1 1 0 2 1 0 0 1 2 1 2 1 2 2 0 1\n",
            " 0 1 2 2 0 2 2 1]\n"
          ],
          "name": "stdout"
        }
      ]
    },
    {
      "cell_type": "code",
      "metadata": {
        "id": "hoOWoqPzW_L4",
        "colab_type": "code",
        "colab": {}
      },
      "source": [
        "from sklearn import datasets\n",
        "from sklearn.linear_model import LinearRegression"
      ],
      "execution_count": 0,
      "outputs": []
    },
    {
      "cell_type": "code",
      "metadata": {
        "id": "GlyLDEBfY5H4",
        "colab_type": "code",
        "colab": {
          "base_uri": "https://localhost:8080/",
          "height": 50
        },
        "outputId": "359f9c60-eb16-42dd-9044-5b0b8ac7e22f"
      },
      "source": [
        "loaded_data = datasets.load_boston()\n",
        "data_X = loaded_data.data\n",
        "data_y = loaded_data.target\n",
        "\n",
        "model = LinearRegression()\n",
        "model.fit(data_X,data_y)\n",
        "\n",
        "print(model.predict(data_X[:4,:]))\n",
        "print(data_y[:4])"
      ],
      "execution_count": 12,
      "outputs": [
        {
          "output_type": "stream",
          "text": [
            "[30.00384338 25.02556238 30.56759672 28.60703649]\n",
            "[24.  21.6 34.7 33.4]\n"
          ],
          "name": "stdout"
        }
      ]
    },
    {
      "cell_type": "markdown",
      "metadata": {
        "id": "mTTitR7OaRuq",
        "colab_type": "text"
      },
      "source": [
        "#使用sklearn自带的函数生成数据"
      ]
    },
    {
      "cell_type": "code",
      "metadata": {
        "id": "aEno5wP0ZFeZ",
        "colab_type": "code",
        "colab": {
          "base_uri": "https://localhost:8080/",
          "height": 265
        },
        "outputId": "220e525d-2f8b-47e7-fa7f-ee5f89d7628c"
      },
      "source": [
        "import matplotlib.pyplot as plt\n",
        "\n",
        "X, y = datasets.make_regression(n_samples=100, n_features=1, n_targets=1, noise=1)\n",
        "plt.scatter(X,y)\n",
        "plt.show()"
      ],
      "execution_count": 14,
      "outputs": [
        {
          "output_type": "display_data",
          "data": {
            "image/png": "[encoded data removed]",
            "text/plain": [
              "<Figure size 432x288 with 1 Axes>"
            ]
          },
          "metadata": {
            "tags": [],
            "needs_background": "light"
          }
        }
      ]
    },
    {
      "cell_type": "code",
      "metadata": {
        "id": "jKp2dEbPCsEl",
        "colab_type": "code",
        "colab": {
          "base_uri": "https://localhost:8080/",
          "height": 101
        },
        "outputId": "da7081f9-0632-41b6-8001-ba28bfc6688a"
      },
      "source": [
        "print(model.coef_)     #一共输出了多少点\n",
        "print(model.intercept_)  #与y轴交点\n",
        "print(model.get_params)  #所定义的model的参数，未定义则是使用初始值"
      ],
      "execution_count": 15,
      "outputs": [
        {
          "output_type": "stream",
          "text": [
            "[-1.08011358e-01  4.64204584e-02  2.05586264e-02  2.68673382e+00\n",
            " -1.77666112e+01  3.80986521e+00  6.92224640e-04 -1.47556685e+00\n",
            "  3.06049479e-01 -1.23345939e-02 -9.52747232e-01  9.31168327e-03\n",
            " -5.24758378e-01]\n",
            "36.459488385090125\n"
          ],
          "name": "stdout"
        }
      ]
    },
    {
      "cell_type": "code",
      "metadata": {
        "id": "b0Bmy0FZD_wl",
        "colab_type": "code",
        "colab": {
          "base_uri": "https://localhost:8080/",
          "height": 34
        },
        "outputId": "401477f5-0622-4ea9-f68a-9b1d0066c8f2"
      },
      "source": [
        "print(model.score(data_X,data_y))  #R^2 cofficient of determination"
      ],
      "execution_count": 16,
      "outputs": [
        {
          "output_type": "stream",
          "text": [
            "0.7406426641094095\n"
          ],
          "name": "stdout"
        }
      ]
    },
    {
      "cell_type": "markdown",
      "metadata": {
        "id": "-wN9Bf8vIjHj",
        "colab_type": "text"
      },
      "source": [
        "#标准化数据"
      ]
    },
    {
      "cell_type": "markdown",
      "metadata": {
        "id": "yScrepuQEbVq",
        "colab_type": "text"
      },
      "source": [
        "sklearn中nomalization，即标准化，又叫scale\n",
        "各种输入特征如果取值范围差距过大，不利于模型拟合，但如果都在相似范围内，让模型更容易处理数据。"
      ]
    },
    {
      "cell_type": "code",
      "metadata": {
        "id": "uNySIfrfEa8M",
        "colab_type": "code",
        "colab": {
          "base_uri": "https://localhost:8080/",
          "height": 118
        },
        "outputId": "8b845f5b-e099-4fe6-c4d0-459fdea45258"
      },
      "source": [
        "from sklearn import preprocessing\n",
        "a = np.array([[10,2.7,3.6],\n",
        "        [-100,5,-2],\n",
        "        [120,20,40]],dtype=np.float64)\n",
        "print(a)\n",
        "print(preprocessing.scale(a))"
      ],
      "execution_count": 20,
      "outputs": [
        {
          "output_type": "stream",
          "text": [
            "[[  10.     2.7    3.6]\n",
            " [-100.     5.    -2. ]\n",
            " [ 120.    20.    40. ]]\n",
            "[[ 0.         -0.85170713 -0.55138018]\n",
            " [-1.22474487 -0.55187146 -0.852133  ]\n",
            " [ 1.22474487  1.40357859  1.40351318]]\n"
          ],
          "name": "stdout"
        }
      ]
    },
    {
      "cell_type": "code",
      "metadata": {
        "id": "jV7l_O--Fq-Y",
        "colab_type": "code",
        "colab": {
          "base_uri": "https://localhost:8080/",
          "height": 265
        },
        "outputId": "df7ba3f4-ac93-46ae-8178-dff4ced0b263"
      },
      "source": [
        "from sklearn.datasets import make_classification\n",
        "from sklearn.svm import SVC\n",
        "import matplotlib.pyplot as plt\n",
        "\n",
        "X, y = make_classification(n_samples=300, n_features=2, n_redundant=0, n_informative=2,\n",
        "                random_state=22, n_clusters_per_class=1, scale=100)\n",
        "plt.scatter(X[:,0], X[:,1], c=y)\n",
        "plt.show()"
      ],
      "execution_count": 35,
      "outputs": [
        {
          "output_type": "display_data",
          "data": {
            "image/png": "[encoded data removed]",
            "text/plain": [
              "<Figure size 432x288 with 1 Axes>"
            ]
          },
          "metadata": {
            "tags": [],
            "needs_background": "light"
          }
        }
      ]
    },
    {
      "cell_type": "code",
      "metadata": {
        "id": "ZEpaq6U5Hg3Y",
        "colab_type": "code",
        "colab": {}
      },
      "source": [
        "#无scale\n",
        "X_train, X_test, y_train, y_test = train_test_split(X, y, test_size=0.3)\n",
        "clf = SVC()\n",
        "clf.fit(X_train, y_train)\n",
        "print(clf.score(X_test,y_test))"
      ],
      "execution_count": 0,
      "outputs": []
    },
    {
      "cell_type": "code",
      "metadata": {
        "id": "5h-FSJd1G5ls",
        "colab_type": "code",
        "colab": {
          "base_uri": "https://localhost:8080/",
          "height": 34
        },
        "outputId": "c6c9e33b-30a2-4e9d-ae96-cbd3d91baa68"
      },
      "source": [
        "#有scale\n",
        "X = preprocessing.scale(X)\n",
        "X_train, X_test, y_train, y_test = train_test_split(X, y, test_size=0.3)\n",
        "clf = SVC()\n",
        "clf.fit(X_train, y_train)\n",
        "print(clf.score(X_test,y_test))"
      ],
      "execution_count": 34,
      "outputs": [
        {
          "output_type": "stream",
          "text": [
            "0.9666666666666667\n"
          ],
          "name": "stdout"
        }
      ]
    },
    {
      "cell_type": "markdown",
      "metadata": {
        "id": "62FoYaxPIbP1",
        "colab_type": "text"
      },
      "source": [
        "#交叉验证 "
      ]
    },
    {
      "cell_type": "code",
      "metadata": {
        "id": "iTjRnMSVHxcQ",
        "colab_type": "code",
        "colab": {
          "base_uri": "https://localhost:8080/",
          "height": 50
        },
        "outputId": "f2cd3448-b7d7-4735-b387-58527ec9099c"
      },
      "source": [
        "iris = datasets.load_iris()\n",
        "iris_X = iris.data\n",
        "iris_y = iris.target\n",
        "\n",
        "from sklearn.model_selection import cross_val_score\n",
        "knn_2 = KNeighborsClassifier(n_neighbors=5)\n",
        "scores = cross_val_score(knn_2,iris_X,iris_y,cv=5,scoring='accuracy')\n",
        "print(scores)\n",
        "print(scores.mean())"
      ],
      "execution_count": 44,
      "outputs": [
        {
          "output_type": "stream",
          "text": [
            "[0.96666667 1.         0.93333333 0.96666667 1.        ]\n",
            "0.9733333333333334\n"
          ],
          "name": "stdout"
        }
      ]
    },
    {
      "cell_type": "markdown",
      "metadata": {
        "id": "S_NyyaHOLN_E",
        "colab_type": "text"
      },
      "source": [
        "knn中的k在不同值情况下的得分情况"
      ]
    },
    {
      "cell_type": "code",
      "metadata": {
        "id": "ulorlOZjKNIQ",
        "colab_type": "code",
        "colab": {
          "base_uri": "https://localhost:8080/",
          "height": 279
        },
        "outputId": "65f54e4a-5f66-4cad-d9a6-f003ad2d546a"
      },
      "source": [
        "k_range = range(1,31)\n",
        "k_scores = []\n",
        "for k in k_range:\n",
        "  knn_3 = KNeighborsClassifier(n_neighbors=k)\n",
        "#  loss = -cross_val_score(knn_3, iris_X, iris_y, cv=10, scoring='mean_squared_error')\n",
        "  scores_2 = cross_val_score(knn_3,iris_X,iris_y,cv=10,scoring='accuracy')\n",
        "  #cv=10表示分成十份\n",
        "  k_scores.append(scores_2.mean())\n",
        "\n",
        "plt.plot(k_range, k_scores)\n",
        "plt.xlabel('Value of  K for KNN')\n",
        "plt.ylabel('Cross-Validation Accuracy')\n",
        "plt.show()"
      ],
      "execution_count": 60,
      "outputs": [
        {
          "output_type": "display_data",
          "data": {
            "image/png": "[encoded data removed]",
            "text/plain": [
              "<Figure size 432x288 with 1 Axes>"
            ]
          },
          "metadata": {
            "tags": [],
            "needs_background": "light"
          }
        }
      ]
    },
    {
      "cell_type": "code",
      "metadata": {
        "id": "7gkWdySyMBNp",
        "colab_type": "code",
        "colab": {}
      },
      "source": [
        "import sklearn\n",
        "sorted(sklearn.metrics.SCORERS.keys())  #该段代码可显示scoring的各种可选值"
      ],
      "execution_count": 0,
      "outputs": []
    },
    {
      "cell_type": "code",
      "metadata": {
        "id": "xfeThMiuMkM7",
        "colab_type": "code",
        "colab": {
          "base_uri": "https://localhost:8080/",
          "height": 295
        },
        "outputId": "16c06203-00ce-4677-877d-f679bde14f66"
      },
      "source": [
        "from sklearn.model_selection import learning_curve\n",
        "from sklearn.datasets import load_digits\n",
        "from sklearn.svm import SVC\n",
        "import matplotlib.pyplot as plt\n",
        "import numpy as np \n",
        "\n",
        "digits = load_digits()\n",
        "X_1 = digits.data\n",
        "y_1 = digits.target\n",
        "\n",
        "#良好的学习结果\n",
        "train_size, train_loss, test_loss = learning_curve(\n",
        "                    SVC(gamma=0.001), X_1, y_1, cv=10, scoring='neg_mean_squared_error',\n",
        "                    train_sizes=[0.1,0.25,0.5,0.75,1])\n",
        "#在训练集占比10%、25%......处作点\n",
        "train_loss_mean = -np.mean(train_loss,axis=1)\n",
        "test_loss_mean = -np.mean(test_loss,axis=1)\n",
        "\n",
        "plt.plot(train_size,train_loss_mean,'o-',color='r',\n",
        "         label='Training')\n",
        "plt.plot(train_size,test_loss_mean,'o-',color='g',\n",
        "         label='Cross-Validation')\n",
        "plt.xlabel('Training Examples')\n",
        "plt.ylabel('Loss')\n",
        "plt.legend(loc='best')\n",
        "plt.title('Good result')\n",
        "plt.show()"
      ],
      "execution_count": 76,
      "outputs": [
        {
          "output_type": "display_data",
          "data": {
            "image/png": "[encoded data removed]",
            "text/plain": [
              "<Figure size 432x288 with 1 Axes>"
            ]
          },
          "metadata": {
            "tags": [],
            "needs_background": "light"
          }
        }
      ]
    },
    {
      "cell_type": "code",
      "metadata": {
        "id": "ZbdbKAxjXa0d",
        "colab_type": "code",
        "colab": {
          "base_uri": "https://localhost:8080/",
          "height": 295
        },
        "outputId": "9db799ce-b607-4245-f2f7-749ac429d472"
      },
      "source": [
        "#改变gamma值，过拟合\n",
        "#若训练loss在下降但是测试loss在上升表明过拟合了\n",
        "train_size, train_loss, test_loss = learning_curve(\n",
        "                    SVC(gamma=0.01), X_1, y_1, cv=10, scoring='neg_mean_squared_error',\n",
        "                    train_sizes=[0.1,0.25,0.5,0.75,1])\n",
        "#在训练集占比10%、25%......处作点\n",
        "train_loss_mean = -np.mean(train_loss,axis=1)\n",
        "test_loss_mean = -np.mean(test_loss,axis=1)\n",
        "\n",
        "plt.plot(train_size,train_loss_mean,'o-',color='r',\n",
        "         label='Training')\n",
        "plt.plot(train_size,test_loss_mean,'o-',color='g',\n",
        "         label='Cross-Validation')\n",
        "plt.xlabel('Training Examples')\n",
        "plt.ylabel('Loss')\n",
        "plt.legend(loc='best')\n",
        "plt.title('Overfitting')\n",
        "plt.show()"
      ],
      "execution_count": 77,
      "outputs": [
        {
          "output_type": "display_data",
          "data": {
            "image/png": "[encoded data removed]",
            "text/plain": [
              "<Figure size 432x288 with 1 Axes>"
            ]
          },
          "metadata": {
            "tags": [],
            "needs_background": "light"
          }
        }
      ]
    },
    {
      "cell_type": "markdown",
      "metadata": {
        "id": "R6NMqY8xayS3",
        "colab_type": "text"
      },
      "source": [
        "#选取最佳gamma以避免过拟合"
      ]
    },
    {
      "cell_type": "code",
      "metadata": {
        "id": "EJqrdBZLWEAx",
        "colab_type": "code",
        "colab": {
          "base_uri": "https://localhost:8080/",
          "height": 279
        },
        "outputId": "e66e5e3b-e254-49d5-e0e0-713e54559d22"
      },
      "source": [
        "from sklearn.model_selection import validation_curve\n",
        "from sklearn.datasets import load_digits\n",
        "from sklearn.svm import SVC\n",
        "import matplotlib.pyplot as plt\n",
        "import numpy as np \n",
        "\n",
        "\n",
        "digits = load_digits()\n",
        "X_1 = digits.data\n",
        "y_1 = digits.target\n",
        "\n",
        "#validation_curve可以改变参数的值\n",
        "#param_range为gamma值的范围\n",
        "param_range = np.logspace(-6,-2.3,5)   #-lg(6)到-lg(2.3)之间取五个值\n",
        "train_loss_2, test_loss_2 = validation_curve(\n",
        "                    SVC(), X_1, y_1, param_name='gamma', \n",
        "                    param_range=param_range, cv=10, scoring='neg_mean_squared_error')\n",
        "#在训练集占比10%、25%......处作点\n",
        "train_loss_mean_2 = -np.mean(train_loss_2,axis=1)\n",
        "test_loss_mean_2 = -np.mean(test_loss_2,axis=1)\n",
        "\n",
        "plt.plot(param_range,train_loss_mean_2,'o-',color='r',\n",
        "         label='Training')\n",
        "plt.plot(param_range,test_loss_mean_2,'o-',color='g',\n",
        "    label='Cross-Validation')\n",
        "plt.xlabel('gamma')\n",
        "plt.ylabel('Loss')\n",
        "plt.legend(loc='best')\n",
        "plt.show()"
      ],
      "execution_count": 83,
      "outputs": [
        {
          "output_type": "display_data",
          "data": {
            "image/png": "[encoded data removed]",
            "text/plain": [
              "<Figure size 432x288 with 1 Axes>"
            ]
          },
          "metadata": {
            "tags": [],
            "needs_background": "light"
          }
        }
      ]
    },
    {
      "cell_type": "markdown",
      "metadata": {
        "id": "2qTC2x_lZlB0",
        "colab_type": "text"
      },
      "source": [
        "#保存model的参数值"
      ]
    },
    {
      "cell_type": "code",
      "metadata": {
        "id": "Prn0gGNWZjWQ",
        "colab_type": "code",
        "colab": {}
      },
      "source": [
        "from sklearn.datasets import load_iris\n",
        "from sklearn import svm\n",
        "\n",
        "clf_1 = svm.SVC()\n",
        "iris = load_iris()\n",
        "iris_X, iris_y = iris.data, iris.target\n",
        "clf_1.fit(iris_X, iris_y)\n",
        "\n",
        "#使用pickle保存数据\n",
        "import pickle\n",
        "with open('save/clf_1.pickle','wb') as f:\n",
        "  pickle.dump(clf_1,f)\n",
        "\n",
        "with open('save/clf_1.pickle','rb') as f: \n",
        "  clf2 = pickle.load(f)\n",
        "  print(clf_2.predict(iris_X[0:1]))"
      ],
      "execution_count": 0,
      "outputs": []
    },
    {
      "cell_type": "code",
      "metadata": {
        "id": "0SyxsxA0c1Bg",
        "colab_type": "code",
        "colab": {}
      },
      "source": [
        "#使用sklearn中的joblib保存\n",
        "from sklearn.externals import joblib\n",
        "joblib.dump(clf_1,'save/clf_1.pkl')\n",
        "clf_3 = joblib.load('save/clf_1.pkl')\n",
        "print(clf_2.predict(iris_X[0:1]))"
      ],
      "execution_count": 0,
      "outputs": []
    }
  ]
}